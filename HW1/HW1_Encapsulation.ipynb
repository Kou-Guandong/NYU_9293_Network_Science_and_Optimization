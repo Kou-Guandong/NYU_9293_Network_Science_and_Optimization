{
 "cells": [
  {
   "cell_type": "code",
   "execution_count": 1,
   "metadata": {},
   "outputs": [],
   "source": [
    "import numpy as np\n",
    "import matplotlib.pyplot as plt\n",
    "from ipywidgets import interact, interact_manual\n",
    "import ipywidgets as widgets\n",
    "import networkx as nx\n",
    "from collections import Counter\n",
    "from sklearn.linear_model import LinearRegression as LR"
   ]
  },
  {
   "cell_type": "code",
   "execution_count": null,
   "metadata": {},
   "outputs": [],
   "source": [
    "class Problem1():\n",
    "    def __init__(self):\n",
    "        self.p = np.linspace(0.001, 0.999, 201)\n",
    "    def get_W(self, a, p):\n",
    "        return p - (1-1/a)/np.log(a) * p * np.log(p)\n",
    "    def plot_W(self, a):\n",
    "        W = self.get_W(a, self.p)\n",
    "        plt.figure()\n",
    "        plt.plot(self.p, W)\n",
    "        plt.xlabel('P')\n",
    "        plt.ylabel('W')\n",
    "        plt.show()"
   ]
  },
  {
   "cell_type": "code",
   "execution_count": null,
   "metadata": {},
   "outputs": [],
   "source": [
    "class Problem5():\n",
    "    def __init__(self):\n",
    "        global Graph_p5\n",
    "        self.G = Graph_p5\n",
    "        \n",
    "    def get_distribution(self):\n",
    "        deg_sequence = sorted([deg for node, deg in self.G.in_degree()], reverse=True)\n",
    "        self.k_counter = Counter(deg_sequence)\n",
    "        self.k_values = np.array(sorted(filter(lambda x: x>0, list(self.k_counter.keys())))) # k_min = 1\n",
    "        self.p_k = np.array([self.k_counter[k] for k in self.k_values]) / len(deg_sequence) # probability of k\n",
    "        self.size_k = self.k_values.size\n",
    "\n",
    "    def visualize_distribution(self):\n",
    "        plt.figure()\n",
    "        fig, ax = plt.subplots(1,2, figsize=(14,4))\n",
    "        ax[0].scatter(self.k_values, self.p_k, s=2)\n",
    "        ax[0].set_xlabel('degree ($k$);');\n",
    "        ax[0].set_ylabel('$p_k$');\n",
    "        ax[1].scatter(self.k_values, self.p_k, s=2)\n",
    "        ax[1].set_xscale('log')\n",
    "        ax[1].set_yscale('log')\n",
    "        ax[1].set_xlim(10**(-0.1), 10**4)\n",
    "        ax[1].set_ylim(10**(-6), 1)\n",
    "        ax[1].set_xlabel('degree ($k$);');\n",
    "        ax[1].set_ylabel('$p_k$');\n",
    "        plt.show()\n",
    "        \n",
    "    def fit_params(self):\n",
    "        self.log_k = np.log(self.k_values)\n",
    "        self.log_pk = np.log(self.p_k)\n",
    "        # use linear regression model to fit the logarithm values of k and p_k\n",
    "        self.model = LR().fit(self.log_k.reshape(self.size_k, 1), self.log_pk.reshape(self.size_k, 1))\n",
    "        return self.model.coef_.ravel(), self.model.intercept_\n",
    "        \n",
    "    def plot_fitted(self):\n",
    "        xx = np.array([min(self.log_k), max(self.log_k)])\n",
    "        yy = alpha * xx + c\n",
    "        plt.scatter(self.log_k, self.log_pk, s=2, c='blue');\n",
    "        plt.plot(xx, yy.flatten(), c='orange', linewidth=1);\n",
    "        plt.xlabel('$ln(k)$');\n",
    "        plt.ylabel('$ln(p_k)$');"
   ]
  },
  {
   "cell_type": "code",
   "execution_count": null,
   "metadata": {},
   "outputs": [],
   "source": []
  },
  {
   "cell_type": "code",
   "execution_count": null,
   "metadata": {},
   "outputs": [],
   "source": []
  }
 ],
 "metadata": {
  "kernelspec": {
   "display_name": "Python 3",
   "language": "python",
   "name": "python3"
  },
  "language_info": {
   "codemirror_mode": {
    "name": "ipython",
    "version": 3
   },
   "file_extension": ".py",
   "mimetype": "text/x-python",
   "name": "python",
   "nbconvert_exporter": "python",
   "pygments_lexer": "ipython3",
   "version": "3.7.4"
  }
 },
 "nbformat": 4,
 "nbformat_minor": 2
}
